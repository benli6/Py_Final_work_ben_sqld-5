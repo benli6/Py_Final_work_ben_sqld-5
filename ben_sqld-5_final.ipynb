{
 "cells": [
  {
   "cell_type": "code",
   "execution_count": 1,
   "metadata": {},
   "outputs": [],
   "source": [
    "import requests\n",
    "from time import sleep\n",
    "from pprint import pprint\n",
    "import json\n",
    "from tqdm import tqdm"
   ]
  },
  {
   "cell_type": "code",
   "execution_count": 30,
   "metadata": {},
   "outputs": [],
   "source": [
    "# VK API\n",
    "class VkGet:\n",
    "    url = 'https://api.vk.com/method/'\n",
    "    def __init__(self, vk_token, version = '5.131'):\n",
    "         self.params = {\n",
    "            'access_token': vk_token,\n",
    "            'v': version\n",
    "            }\n",
    "\n",
    "    def get_photos(self, owner_id = None, album_id = 'profile', count = 5):\n",
    "        \"\"\"Метод получает фотографии с профиля, по умолчанию - аватарки владельца профиля в количестве 5 штук.\n",
    "            Возращает массив в формате json \"\"\"\n",
    "        get_photos_params = {\n",
    "            'owner_id': owner_id,\n",
    "            'album_id':  album_id,\n",
    "            'rev': 1,\n",
    "            'extended': 1,\n",
    "            'count': count\n",
    "            }\n",
    "        get_photos_url = self.url + 'photos.get'\n",
    "        response = requests.get(get_photos_url, params={**self.params, **get_photos_params}).json()\n",
    "        return response['response']['items']\n",
    "\n",
    "    def json_photos(self, lst):\n",
    "        \"\"\"Метод формирует json файл с информацией о фотографиях\"\"\"\n",
    "        json_result = []\n",
    "        for i, photo in enumerate(lst):\n",
    "            json_result.append({\n",
    "                # поскольку есть файлы с одинаковым кол-вом лайков, в название добавлен порядковый номер\n",
    "                'file_name': '_'.join([str(i + 1), str(photo['likes']['count'])]),\n",
    "                'size': photo['sizes'][-1]['type']\n",
    "            })\n",
    "        jsonString = json.dumps(json_result)\n",
    "        with open(\"ben_photos.json\", \"w\") as jsonFile:\n",
    "            jsonFile.write(jsonString)\n",
    "\n",
    "\n",
    "# Yandex API\n",
    "class YaUploader:\n",
    "    def __init__(self, token: str):\n",
    "        self.ya_token = token\n",
    "\n",
    "    def get_headers(self):\n",
    "        return {'Content-type': 'application/json',\n",
    "            'Authorization': f'OAuth {self.ya_token}'}\n",
    "\n",
    "    def create_dir(self):\n",
    "        \"\"\"Метод создает папку на Яндекс-диске\"\"\"\n",
    "        url = 'https://cloud-api.yandex.net/v1/disk/resources'\n",
    "        headers = self.get_headers()\n",
    "        params = {'path': 'Vk_photo'}\n",
    "        response = requests.put(url, headers = headers, params = params)\n",
    "\n",
    "    def upload(self, lst):\n",
    "        \"\"\"Метод загружает фотографии на яндекс диск и формирует json c информацией о них\"\"\"\n",
    "        pbar = tqdm(total = len(lst))\n",
    "        url = 'https://cloud-api.yandex.net/v1/disk/resources/upload'\n",
    "        headers = self.get_headers()\n",
    "        for i, photo in enumerate(lst):\n",
    "            pbar.update(1)\n",
    "            file_name = '_'.join([str(i + 1), str(photo['likes']['count'])])\n",
    "            path = f'Vk_photo/{file_name}.jpeg'\n",
    "            params = {'path': path, 'url': photo['sizes'][-1]['url']}\n",
    "            response = requests.post(url, headers = headers, params = params)\n",
    "        pbar.close()"
   ]
  },
  {
   "cell_type": "code",
   "execution_count": 31,
   "metadata": {},
   "outputs": [
    {
     "name": "stderr",
     "output_type": "stream",
     "text": [
      "100%|██████████| 5/5 [00:02<00:00,  1.96it/s]\n"
     ]
    }
   ],
   "source": [
    "if __name__ == '__main__':\n",
    "    vk_token = input(\"Введите токен vk: \")\n",
    "    vk_result = VkGet(vk_token)\n",
    "    vk_result.json_photos(vk_result.get_photos())\n",
    "    \n",
    "    ya_token = input(\"Введите токен Яндекса: \")\n",
    "    uploader = YaUploader(ya_token)\n",
    "    \n",
    "    uploader.create_dir()\n",
    "    uploader.upload(vk_result.get_photos())"
   ]
  }
 ],
 "metadata": {
  "kernelspec": {
   "display_name": "Python 3.10.1 64-bit",
   "language": "python",
   "name": "python3"
  },
  "language_info": {
   "codemirror_mode": {
    "name": "ipython",
    "version": 3
   },
   "file_extension": ".py",
   "mimetype": "text/x-python",
   "name": "python",
   "nbconvert_exporter": "python",
   "pygments_lexer": "ipython3",
   "version": "3.10.1"
  },
  "orig_nbformat": 4,
  "vscode": {
   "interpreter": {
    "hash": "e192c477015e0c8e4427e2a21fcada2aaf43102079abc726728a52ed32b2764a"
   }
  }
 },
 "nbformat": 4,
 "nbformat_minor": 2
}
